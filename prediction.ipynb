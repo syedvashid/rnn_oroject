{
 "cells": [
  {
   "cell_type": "code",
   "execution_count": 10,
   "metadata": {},
   "outputs": [],
   "source": [
    "import numpy as np\n",
    "import tensorflow as tf\n",
    "from tensorflow.keras.datasets import imdb\n",
    "from tensorflow.keras.preprocessing import sequence\n",
    "from tensorflow.keras.models import Sequential,load_model,save_model\n",
    "from tensorflow.keras.layers import Embedding,SimpleRNN,Dense\n"
   ]
  },
  {
   "cell_type": "code",
   "execution_count": 2,
   "metadata": {},
   "outputs": [],
   "source": [
    "# load the imdb dataset word index\n",
    "word_index = imdb.get_word_index()\n",
    "reverse_word_index = {value: key for key,value in word_index.items()}\n"
   ]
  },
  {
   "cell_type": "code",
   "execution_count": 11,
   "metadata": {},
   "outputs": [
    {
     "name": "stdout",
     "output_type": "stream",
     "text": [
      "Model: \"sequential\"\n",
      "_________________________________________________________________\n",
      " Layer (type)                Output Shape              Param #   \n",
      "=================================================================\n",
      " embedding (Embedding)       (None, 500, 128)          1280000   \n",
      "                                                                 \n",
      " simple_rnn (SimpleRNN)      (None, 128)               32896     \n",
      "                                                                 \n",
      " dense (Dense)               (None, 1)                 129       \n",
      "                                                                 \n",
      "=================================================================\n",
      "Total params: 1313025 (5.01 MB)\n",
      "Trainable params: 1313025 (5.01 MB)\n",
      "Non-trainable params: 0 (0.00 Byte)\n",
      "_________________________________________________________________\n"
     ]
    }
   ],
   "source": [
    "model = load_model('simple_rnn_imdb.h5')\n",
    "model.summary()"
   ]
  },
  {
   "cell_type": "code",
   "execution_count": 4,
   "metadata": {},
   "outputs": [
    {
     "data": {
      "text/plain": [
       "[array([[-4.4917002e-02,  1.4011657e-02, -2.0519035e-02, ...,\n",
       "         -2.7320287e-03,  7.7015124e-02, -7.7326855e-05],\n",
       "        [ 1.5049397e-03, -6.3591607e-02,  2.1475386e-02, ...,\n",
       "         -1.3428526e-02,  1.6677696e-02,  3.1407375e-02],\n",
       "        [-3.0898899e-02, -1.2661514e-02, -7.7986754e-02, ...,\n",
       "         -1.5944490e-02,  2.9996406e-02,  1.0959242e-02],\n",
       "        ...,\n",
       "        [-3.3192657e-02,  5.4847230e-03, -5.3314622e-03, ...,\n",
       "          6.5510876e-02, -5.7824228e-02, -1.2350336e-02],\n",
       "        [ 1.8602487e-02, -6.7438550e-02,  3.8582910e-02, ...,\n",
       "         -7.0068875e-04, -1.7005179e-02, -9.8213255e-03],\n",
       "        [ 5.1210662e-03, -6.8766221e-02, -7.7044927e-02, ...,\n",
       "          1.1402660e-01, -1.1936879e-01,  7.8493424e-02]], dtype=float32),\n",
       " array([[ 0.12859912,  0.11868898, -0.10604155, ...,  0.00759468,\n",
       "          0.11937791, -0.02517249],\n",
       "        [ 0.12037531,  0.04531821, -0.0059457 , ...,  0.03447236,\n",
       "          0.03292173, -0.11818588],\n",
       "        [ 0.17205784, -0.08737865,  0.15834437, ..., -0.07188264,\n",
       "          0.15231639,  0.10490324],\n",
       "        ...,\n",
       "        [-0.09272934, -0.13331911, -0.00895858, ..., -0.025216  ,\n",
       "          0.05492049, -0.07735441],\n",
       "        [-0.06274956, -0.12201288,  0.04698216, ..., -0.00669917,\n",
       "         -0.09860111, -0.08299631],\n",
       "        [ 0.00338968, -0.10656624,  0.12304939, ...,  0.11502564,\n",
       "         -0.06820268, -0.11183012]], dtype=float32),\n",
       " array([[-0.00116545, -0.08598762, -0.09279634, ...,  0.00966023,\n",
       "         -0.13066229, -0.11428792],\n",
       "        [ 0.08022004,  0.07042384, -0.07592216, ...,  0.02369012,\n",
       "         -0.16141133, -0.0462836 ],\n",
       "        [-0.06685027, -0.11973379, -0.20853777, ...,  0.07684707,\n",
       "         -0.11125328, -0.04352871],\n",
       "        ...,\n",
       "        [-0.0244273 ,  0.18938135,  0.076957  , ..., -0.08639874,\n",
       "          0.02361441, -0.05783246],\n",
       "        [ 0.0368298 ,  0.13233644,  0.04291402, ..., -0.0675753 ,\n",
       "         -0.19263503, -0.09192915],\n",
       "        [ 0.08351219, -0.05066891, -0.04967358, ...,  0.01220383,\n",
       "          0.09403412,  0.06046325]], dtype=float32),\n",
       " array([-0.01886327,  0.03017942, -0.00991707, -0.03957465, -0.04190565,\n",
       "         0.00564323, -0.02065704,  0.01575392,  0.02929777, -0.03362253,\n",
       "        -0.04961213, -0.01258428, -0.04825872, -0.00756982, -0.03647218,\n",
       "        -0.04075311, -0.00479928, -0.02674501, -0.03144697, -0.01064408,\n",
       "         0.01546776,  0.01033255, -0.00963   ,  0.00016932, -0.02243776,\n",
       "         0.01108158, -0.00848836,  0.0009747 , -0.0357098 ,  0.01684782,\n",
       "        -0.00980988, -0.0109913 ,  0.00777495, -0.02882384,  0.0118256 ,\n",
       "         0.01522704, -0.00840992, -0.08575066, -0.02350357, -0.00810622,\n",
       "        -0.01265878,  0.01201926,  0.07297862, -0.01540353, -0.02859268,\n",
       "        -0.00194729,  0.00515553,  0.01497961, -0.01831672, -0.0121993 ,\n",
       "         0.023689  ,  0.0390999 ,  0.02844841, -0.02000287, -0.02912355,\n",
       "        -0.03201817, -0.04121833, -0.00997133,  0.02820747, -0.04257505,\n",
       "        -0.0352754 ,  0.00358432,  0.01679318, -0.03047992, -0.03580647,\n",
       "         0.01679885, -0.02576657, -0.04771461, -0.04406818, -0.00026867,\n",
       "        -0.03370098, -0.02217028,  0.00517549, -0.03925495, -0.03583636,\n",
       "        -0.03584759, -0.02038   , -0.03267602, -0.02038424, -0.02977379,\n",
       "        -0.00578608, -0.0204332 , -0.03495679, -0.00901406, -0.0135921 ,\n",
       "        -0.05248053, -0.0547343 , -0.01318469,  0.01052078,  0.01368583,\n",
       "        -0.03543817, -0.02200989,  0.00151231, -0.04217294, -0.01974541,\n",
       "         0.02776664, -0.03238302, -0.00993648,  0.06812424, -0.02746584,\n",
       "        -0.01914839, -0.002398  ,  0.01432731,  0.01387556, -0.0073219 ,\n",
       "        -0.03354145, -0.01373706,  0.00351672, -0.03969318,  0.01653454,\n",
       "         0.01754811,  0.00965235,  0.02312191, -0.02662017, -0.0950534 ,\n",
       "         0.01387626, -0.00234731, -0.03699055, -0.01267442, -0.03103953,\n",
       "         0.01723245, -0.01326299, -0.02681505, -0.02762196, -0.03177274,\n",
       "        -0.01901828, -0.01051763, -0.03187227], dtype=float32),\n",
       " array([[ 1.84695870e-01],\n",
       "        [ 1.71986103e-01],\n",
       "        [ 2.22845152e-01],\n",
       "        [ 1.71398371e-01],\n",
       "        [ 2.16964260e-01],\n",
       "        [ 8.68319944e-02],\n",
       "        [-1.71260592e-02],\n",
       "        [-6.09058663e-02],\n",
       "        [-1.16024353e-01],\n",
       "        [ 4.26621407e-01],\n",
       "        [-2.65334919e-02],\n",
       "        [ 2.10156515e-01],\n",
       "        [-1.45774230e-01],\n",
       "        [ 2.15593457e-01],\n",
       "        [-1.21801332e-01],\n",
       "        [-1.72634739e-02],\n",
       "        [ 1.88032722e+00],\n",
       "        [ 6.13541417e-02],\n",
       "        [ 1.73929065e-01],\n",
       "        [ 1.67672798e-01],\n",
       "        [ 3.91713768e-01],\n",
       "        [-7.72577599e-02],\n",
       "        [ 1.39685392e-01],\n",
       "        [-4.56839353e-02],\n",
       "        [ 1.98829144e-01],\n",
       "        [-1.08828321e-01],\n",
       "        [-2.64312923e-01],\n",
       "        [ 1.67345896e-01],\n",
       "        [ 5.33129573e-02],\n",
       "        [ 2.71177322e-01],\n",
       "        [-1.31808892e-01],\n",
       "        [ 4.12364118e-03],\n",
       "        [-2.73242928e-02],\n",
       "        [-1.82296649e-01],\n",
       "        [-9.54249054e-02],\n",
       "        [-1.59079045e-01],\n",
       "        [-1.93800703e-02],\n",
       "        [-2.77961463e-01],\n",
       "        [-6.41948879e-02],\n",
       "        [-3.44345331e-01],\n",
       "        [ 1.20401874e-01],\n",
       "        [ 1.13931902e-01],\n",
       "        [-1.90045312e-01],\n",
       "        [ 7.22963512e-02],\n",
       "        [ 2.69236825e-02],\n",
       "        [ 1.74350992e-01],\n",
       "        [-1.30083621e-01],\n",
       "        [ 1.12117128e-03],\n",
       "        [-1.19631693e-01],\n",
       "        [ 1.58425480e-01],\n",
       "        [-1.17725596e-01],\n",
       "        [ 2.95135826e-01],\n",
       "        [ 1.12384237e-01],\n",
       "        [-9.33659077e-02],\n",
       "        [-1.64082721e-01],\n",
       "        [ 7.31676221e-02],\n",
       "        [-3.25730413e-01],\n",
       "        [-1.91946125e+00],\n",
       "        [-1.74183384e-01],\n",
       "        [-3.92291307e-01],\n",
       "        [ 1.83954403e-01],\n",
       "        [-1.03588931e-01],\n",
       "        [ 2.61652917e-01],\n",
       "        [-9.49792285e-03],\n",
       "        [ 3.81746203e-01],\n",
       "        [-1.13929942e-01],\n",
       "        [-1.72316611e-01],\n",
       "        [-1.55212477e-01],\n",
       "        [-5.80426902e-02],\n",
       "        [-6.56242549e-01],\n",
       "        [-1.17972672e-01],\n",
       "        [ 2.16270614e+00],\n",
       "        [ 1.04261890e-01],\n",
       "        [ 1.12436213e-01],\n",
       "        [-1.49585843e-01],\n",
       "        [ 7.18252212e-02],\n",
       "        [-1.77754939e-01],\n",
       "        [ 1.05796292e-01],\n",
       "        [ 2.46648937e-02],\n",
       "        [ 2.30064273e-01],\n",
       "        [ 2.79652834e-01],\n",
       "        [-1.92034736e-01],\n",
       "        [-6.65831193e-02],\n",
       "        [-1.07149772e-01],\n",
       "        [-1.01513788e-01],\n",
       "        [ 2.11563870e-01],\n",
       "        [-1.62095010e-01],\n",
       "        [ 1.81206822e-01],\n",
       "        [-6.95129409e-02],\n",
       "        [ 1.91902429e-01],\n",
       "        [ 1.55821204e-01],\n",
       "        [-8.42312947e-02],\n",
       "        [ 1.52244925e-01],\n",
       "        [ 1.92200653e-02],\n",
       "        [-1.58346549e-01],\n",
       "        [ 3.79458293e-02],\n",
       "        [-1.58223808e-01],\n",
       "        [-1.36802912e-01],\n",
       "        [ 1.90510467e-01],\n",
       "        [ 1.58311293e-01],\n",
       "        [ 8.86697918e-02],\n",
       "        [ 1.21082224e-01],\n",
       "        [-9.09793079e-02],\n",
       "        [-1.51473014e-02],\n",
       "        [ 1.75103143e-01],\n",
       "        [ 3.02589387e-01],\n",
       "        [ 5.00395820e-02],\n",
       "        [ 1.32557243e-01],\n",
       "        [ 3.23264971e-02],\n",
       "        [ 2.12096721e-01],\n",
       "        [ 1.22594841e-01],\n",
       "        [-1.79757059e-01],\n",
       "        [-1.04385935e-01],\n",
       "        [-5.92412874e-02],\n",
       "        [ 3.04583758e-02],\n",
       "        [ 7.62730539e-02],\n",
       "        [-6.55541718e-01],\n",
       "        [ 6.67323321e-02],\n",
       "        [ 1.43402638e-02],\n",
       "        [-1.40046328e-01],\n",
       "        [-6.17748275e-02],\n",
       "        [-1.75773501e-01],\n",
       "        [-5.51055372e-02],\n",
       "        [-1.95573866e-01],\n",
       "        [ 3.26212347e-02],\n",
       "        [ 1.57986850e-01],\n",
       "        [-2.22250775e-01],\n",
       "        [-5.61144128e-02]], dtype=float32),\n",
       " array([-1.4658558], dtype=float32)]"
      ]
     },
     "execution_count": 4,
     "metadata": {},
     "output_type": "execute_result"
    }
   ],
   "source": [
    "model.get_weights()"
   ]
  },
  {
   "cell_type": "code",
   "execution_count": 5,
   "metadata": {},
   "outputs": [],
   "source": [
    "# helper function \n",
    "def decode_review(encoded_review):\n",
    "    return ' '.join([reverse_word_index.get(i-3,'?')for i in encoded_review])\n",
    "\n",
    "# function to preprocess user input\n",
    "def preprocess_text(text):\n",
    "    words =text.lower().split()\n",
    "    encoded_review = [word_index.get(word,2)+3 for word in words]\n",
    "    padded_review  =sequence.pad_sequences([encoded_review],maxlen= 500)\n",
    "    return padded_review"
   ]
  },
  {
   "cell_type": "code",
   "execution_count": 6,
   "metadata": {},
   "outputs": [],
   "source": [
    "# prediction function\n",
    "def predict_sentiment(review):\n",
    "    preprocessed_input = preprocess_text(review)\n",
    "    prediction  = model.predict(preprocessed_input)\n",
    "    sentiment  = 'postive' if prediction[0][0]>0.5 else 'Negative'\n",
    "    return sentiment,prediction[0][0]"
   ]
  },
  {
   "cell_type": "code",
   "execution_count": 7,
   "metadata": {},
   "outputs": [
    {
     "name": "stdout",
     "output_type": "stream",
     "text": [
      "1/1 [==============================] - 0s 326ms/step\n",
      " review: THis movie was fantastic! the acting was great and the plot was thrilling.\n",
      "sentiment: postive\n",
      "prediction score : 0.5912207365036011\n"
     ]
    }
   ],
   "source": [
    "# step 4\n",
    "# example review for prediction \n",
    "example_review = \"THis movie was fantastic! the acting was great and the plot was thrilling.\"\n",
    "sentiment ,score = predict_sentiment(example_review)\n",
    "\n",
    "print(f' review: {example_review}')\n",
    "print(f'sentiment: {sentiment}')\n",
    "print(f'prediction score : {score}')"
   ]
  },
  {
   "cell_type": "code",
   "execution_count": null,
   "metadata": {},
   "outputs": [],
   "source": []
  },
  {
   "cell_type": "code",
   "execution_count": null,
   "metadata": {},
   "outputs": [],
   "source": []
  },
  {
   "cell_type": "code",
   "execution_count": null,
   "metadata": {},
   "outputs": [],
   "source": []
  },
  {
   "cell_type": "code",
   "execution_count": null,
   "metadata": {},
   "outputs": [],
   "source": []
  },
  {
   "cell_type": "code",
   "execution_count": null,
   "metadata": {},
   "outputs": [],
   "source": []
  },
  {
   "cell_type": "code",
   "execution_count": null,
   "metadata": {},
   "outputs": [],
   "source": []
  },
  {
   "cell_type": "code",
   "execution_count": null,
   "metadata": {},
   "outputs": [],
   "source": []
  },
  {
   "cell_type": "code",
   "execution_count": null,
   "metadata": {},
   "outputs": [],
   "source": []
  },
  {
   "cell_type": "code",
   "execution_count": null,
   "metadata": {},
   "outputs": [],
   "source": []
  },
  {
   "cell_type": "code",
   "execution_count": null,
   "metadata": {},
   "outputs": [],
   "source": []
  },
  {
   "cell_type": "code",
   "execution_count": null,
   "metadata": {},
   "outputs": [],
   "source": []
  },
  {
   "cell_type": "code",
   "execution_count": null,
   "metadata": {},
   "outputs": [],
   "source": []
  },
  {
   "cell_type": "code",
   "execution_count": null,
   "metadata": {},
   "outputs": [],
   "source": []
  },
  {
   "cell_type": "code",
   "execution_count": null,
   "metadata": {},
   "outputs": [],
   "source": []
  },
  {
   "cell_type": "code",
   "execution_count": null,
   "metadata": {},
   "outputs": [],
   "source": []
  },
  {
   "cell_type": "code",
   "execution_count": null,
   "metadata": {},
   "outputs": [],
   "source": []
  },
  {
   "cell_type": "code",
   "execution_count": null,
   "metadata": {},
   "outputs": [],
   "source": []
  }
 ],
 "metadata": {
  "kernelspec": {
   "display_name": "Python 3",
   "language": "python",
   "name": "python3"
  },
  "language_info": {
   "codemirror_mode": {
    "name": "ipython",
    "version": 3
   },
   "file_extension": ".py",
   "mimetype": "text/x-python",
   "name": "python",
   "nbconvert_exporter": "python",
   "pygments_lexer": "ipython3",
   "version": "3.11.0"
  }
 },
 "nbformat": 4,
 "nbformat_minor": 2
}
